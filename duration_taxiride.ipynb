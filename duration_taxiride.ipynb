{
 "cells": [
  {
   "cell_type": "markdown",
   "id": "c262053c",
   "metadata": {},
   "source": [
    "## Базовый анализ и расширение данных"
   ]
  },
  {
   "cell_type": "code",
   "execution_count": 1,
   "id": "c4d7ff21",
   "metadata": {},
   "outputs": [],
   "source": [
    "#Импорт модулей\n",
    "import numpy as np\n",
    "import pandas as pd\n",
    "import matplotlib.pyplot as plt\n",
    "import seaborn as sns\n",
    "import plotly.express as px\n",
    "\n",
    "from scipy import stats\n",
    "from sklearn import linear_model\n",
    "from sklearn import preprocessing\n",
    "from sklearn import model_selection\n",
    "from sklearn import tree\n",
    "from sklearn import ensemble\n",
    "from sklearn import metrics\n",
    "from sklearn import cluster\n",
    "from sklearn import feature_selection"
   ]
  },
  {
   "cell_type": "code",
   "execution_count": null,
   "id": "0da694e4",
   "metadata": {},
   "outputs": [
    {
     "name": "stdout",
     "output_type": "stream",
     "text": [
      "Train data shape: (1458644, 11)\n"
     ]
    },
    {
     "data": {
      "text/html": [
       "<div>\n",
       "<style scoped>\n",
       "    .dataframe tbody tr th:only-of-type {\n",
       "        vertical-align: middle;\n",
       "    }\n",
       "\n",
       "    .dataframe tbody tr th {\n",
       "        vertical-align: top;\n",
       "    }\n",
       "\n",
       "    .dataframe thead th {\n",
       "        text-align: right;\n",
       "    }\n",
       "</style>\n",
       "<table border=\"1\" class=\"dataframe\">\n",
       "  <thead>\n",
       "    <tr style=\"text-align: right;\">\n",
       "      <th></th>\n",
       "      <th>id</th>\n",
       "      <th>vendor_id</th>\n",
       "      <th>pickup_datetime</th>\n",
       "      <th>dropoff_datetime</th>\n",
       "      <th>passenger_count</th>\n",
       "      <th>pickup_longitude</th>\n",
       "      <th>pickup_latitude</th>\n",
       "      <th>dropoff_longitude</th>\n",
       "      <th>dropoff_latitude</th>\n",
       "      <th>store_and_fwd_flag</th>\n",
       "      <th>trip_duration</th>\n",
       "    </tr>\n",
       "  </thead>\n",
       "  <tbody>\n",
       "    <tr>\n",
       "      <th>0</th>\n",
       "      <td>id2875421</td>\n",
       "      <td>2</td>\n",
       "      <td>2016-03-14 17:24:55</td>\n",
       "      <td>2016-03-14 17:32:30</td>\n",
       "      <td>1</td>\n",
       "      <td>-73.982155</td>\n",
       "      <td>40.767937</td>\n",
       "      <td>-73.964630</td>\n",
       "      <td>40.765602</td>\n",
       "      <td>N</td>\n",
       "      <td>455</td>\n",
       "    </tr>\n",
       "    <tr>\n",
       "      <th>1</th>\n",
       "      <td>id2377394</td>\n",
       "      <td>1</td>\n",
       "      <td>2016-06-12 00:43:35</td>\n",
       "      <td>2016-06-12 00:54:38</td>\n",
       "      <td>1</td>\n",
       "      <td>-73.980415</td>\n",
       "      <td>40.738564</td>\n",
       "      <td>-73.999481</td>\n",
       "      <td>40.731152</td>\n",
       "      <td>N</td>\n",
       "      <td>663</td>\n",
       "    </tr>\n",
       "    <tr>\n",
       "      <th>2</th>\n",
       "      <td>id3858529</td>\n",
       "      <td>2</td>\n",
       "      <td>2016-01-19 11:35:24</td>\n",
       "      <td>2016-01-19 12:10:48</td>\n",
       "      <td>1</td>\n",
       "      <td>-73.979027</td>\n",
       "      <td>40.763939</td>\n",
       "      <td>-74.005333</td>\n",
       "      <td>40.710087</td>\n",
       "      <td>N</td>\n",
       "      <td>2124</td>\n",
       "    </tr>\n",
       "    <tr>\n",
       "      <th>3</th>\n",
       "      <td>id3504673</td>\n",
       "      <td>2</td>\n",
       "      <td>2016-04-06 19:32:31</td>\n",
       "      <td>2016-04-06 19:39:40</td>\n",
       "      <td>1</td>\n",
       "      <td>-74.010040</td>\n",
       "      <td>40.719971</td>\n",
       "      <td>-74.012268</td>\n",
       "      <td>40.706718</td>\n",
       "      <td>N</td>\n",
       "      <td>429</td>\n",
       "    </tr>\n",
       "    <tr>\n",
       "      <th>4</th>\n",
       "      <td>id2181028</td>\n",
       "      <td>2</td>\n",
       "      <td>2016-03-26 13:30:55</td>\n",
       "      <td>2016-03-26 13:38:10</td>\n",
       "      <td>1</td>\n",
       "      <td>-73.973053</td>\n",
       "      <td>40.793209</td>\n",
       "      <td>-73.972923</td>\n",
       "      <td>40.782520</td>\n",
       "      <td>N</td>\n",
       "      <td>435</td>\n",
       "    </tr>\n",
       "  </tbody>\n",
       "</table>\n",
       "</div>"
      ],
      "text/plain": [
       "          id  vendor_id      pickup_datetime     dropoff_datetime  \\\n",
       "0  id2875421          2  2016-03-14 17:24:55  2016-03-14 17:32:30   \n",
       "1  id2377394          1  2016-06-12 00:43:35  2016-06-12 00:54:38   \n",
       "2  id3858529          2  2016-01-19 11:35:24  2016-01-19 12:10:48   \n",
       "3  id3504673          2  2016-04-06 19:32:31  2016-04-06 19:39:40   \n",
       "4  id2181028          2  2016-03-26 13:30:55  2016-03-26 13:38:10   \n",
       "\n",
       "   passenger_count  pickup_longitude  pickup_latitude  dropoff_longitude  \\\n",
       "0                1        -73.982155        40.767937         -73.964630   \n",
       "1                1        -73.980415        40.738564         -73.999481   \n",
       "2                1        -73.979027        40.763939         -74.005333   \n",
       "3                1        -74.010040        40.719971         -74.012268   \n",
       "4                1        -73.973053        40.793209         -73.972923   \n",
       "\n",
       "   dropoff_latitude store_and_fwd_flag  trip_duration  \n",
       "0         40.765602                  N            455  \n",
       "1         40.731152                  N            663  \n",
       "2         40.710087                  N           2124  \n",
       "3         40.706718                  N            429  \n",
       "4         40.782520                  N            435  "
      ]
     },
     "execution_count": 3,
     "metadata": {},
     "output_type": "execute_result"
    }
   ],
   "source": [
    "#Чтение файла\n",
    "taxi_data = pd.read_csv(r\"d:\\IDE_github\\mathml\\data\\train.csv\")\n",
    "print('Train data shape: {}'.format(taxi_data.shape))\n",
    "taxi_data.head()"
   ]
  },
  {
   "cell_type": "markdown",
   "id": "2f5ceda0",
   "metadata": {},
   "source": [
    "**Данные о клиенте и таксопарке:**\n",
    "* id - уникальный идентификатор поездки\n",
    "* vendor_id - уникальный идентификатор поставщика (таксопарка), связанного с записью поездки\n",
    "\n",
    "**Временные характеристики:**\n",
    "* pickup_datetime - дата и время, когда был включен счетчик поездки\n",
    "* dropoff_datetime - дата и время, когда счетчик был отключен\n",
    "\n",
    "**Географическая информация:**\n",
    "* pickup_longitude -  долгота, на которой был включен счетчик\n",
    "* pickup_latitude - широта, на которой был включен счетчик\n",
    "* dropoff_longitude - долгота, на которой счетчик был отключен\n",
    "* dropoff_latitude - широта, на которой счетчик был отключен\n",
    "\n",
    "**Прочие признаки:**\n",
    "* passenger_count - количество пассажиров в транспортном средстве (введенное водителем значение)\n",
    "* store_and_fwd_flag - флаг, который указывает, сохранилась ли запись о поездке в памяти транспортного средства перед отправкой поставщику. Y - хранить и пересылать, N - не хранить и не пересылать поездку.\n",
    "\n",
    "**Целевой признак:**\n",
    "* trip_duration - продолжительность поездки в секундах"
   ]
  },
  {
   "cell_type": "markdown",
   "id": "797c7ac9",
   "metadata": {},
   "source": [
    "### Временные рамки"
   ]
  },
  {
   "cell_type": "code",
   "execution_count": 4,
   "id": "14cc01b6",
   "metadata": {},
   "outputs": [
    {
     "name": "stdout",
     "output_type": "stream",
     "text": [
      "Временные рамки:\n",
      "рання дата 2016-01-01T00:00:17.000000000\n",
      "поздняя дата 2016-06-30T23:59:39.000000000\n"
     ]
    }
   ],
   "source": [
    "taxi_data['pickup_datetime'] = pd.to_datetime(taxi_data['pickup_datetime'], format='%Y-%m-%d %H:%M:%S')\n",
    "min_data = min(taxi_data['pickup_datetime'].values)\n",
    "max_data = max(taxi_data['pickup_datetime'].values)\n",
    "print(f'Временные рамки:\\nрання дата {min_data}\\nпоздняя дата {max_data}')"
   ]
  },
  {
   "cell_type": "markdown",
   "id": "7965bde5",
   "metadata": {},
   "source": [
    "### Пропущенные значения"
   ]
  },
  {
   "cell_type": "code",
   "execution_count": 5,
   "id": "8a03f954",
   "metadata": {},
   "outputs": [
    {
     "name": "stdout",
     "output_type": "stream",
     "text": [
      "Пропусков в данных нет\n"
     ]
    }
   ],
   "source": [
    "empty_values_sum = taxi_data.isna().sum()\n",
    "#Столбцы с пропусками\n",
    "columns_with_missing = empty_values_sum[empty_values_sum > 0]\n",
    "if columns_with_missing.empty:\n",
    "    print('Пропусков в данных нет')\n",
    "else:\n",
    "    print('Столбцы с пропусками:')\n",
    "    for column, count in columns_with_missing.items():\n",
    "        print(f'  {column}: {count} пропусков')"
   ]
  },
  {
   "cell_type": "markdown",
   "id": "3d364ed0",
   "metadata": {},
   "source": [
    "### Статистические характеристики"
   ]
  },
  {
   "cell_type": "code",
   "execution_count": 6,
   "id": "c5517d69",
   "metadata": {},
   "outputs": [
    {
     "name": "stdout",
     "output_type": "stream",
     "text": [
      "Уникальных таксопарков: 2\n",
      "Максимальное количество пассажиров: 9\n",
      "Средняя длительность: 959 секунд\n",
      "Медианная длительность: 662 секунд\n",
      "Минимальное время поездки: 1 секунд\n",
      "Максимальное время поездки: 3526282 секунд\n"
     ]
    }
   ],
   "source": [
    "#Количество уникальных таксопарков\n",
    "unique_vendors = taxi_data['vendor_id'].nunique()\n",
    "print(f\"Уникальных таксопарков: {unique_vendors}\")\n",
    "#Максимальное количество пассажиров\n",
    "max_passengers = taxi_data['passenger_count'].max()\n",
    "print(f\"Максимальное количество пассажиров: {max_passengers}\")\n",
    "#Средняя и медианная длительность поездки (округлено до целого)\n",
    "mean_duration = round(taxi_data['trip_duration'].mean())\n",
    "median_duration = round(taxi_data['trip_duration'].median())\n",
    "print(f\"Средняя длительность: {mean_duration} секунд\")\n",
    "print(f\"Медианная длительность: {median_duration} секунд\")\n",
    "#Минимальное и максимальное время поездки\n",
    "min_duration = taxi_data['trip_duration'].min()\n",
    "max_duration = taxi_data['trip_duration'].max()\n",
    "print(f\"Минимальное время поездки: {min_duration} секунд\")\n",
    "print(f\"Максимальное время поездки: {max_duration} секунд\")"
   ]
  },
  {
   "cell_type": "markdown",
   "id": "92aa247c",
   "metadata": {},
   "source": [
    "Судя по последним характеристикам, в данных есть выбросы"
   ]
  },
  {
   "cell_type": "markdown",
   "id": "42f8f853",
   "metadata": {},
   "source": [
    "### Даты поездок"
   ]
  },
  {
   "cell_type": "code",
   "execution_count": 7,
   "id": "7fecce1b",
   "metadata": {},
   "outputs": [
    {
     "name": "stdout",
     "output_type": "stream",
     "text": [
      "Поездок в субботу: 220868\n",
      "Среднее количество поездок в день: 8015\n"
     ]
    }
   ],
   "source": [
    "def add_datetime_features(df):\n",
    "    \"\"\"\n",
    "    Добавляет в DataFrame признаки из datetime.\n",
    "    Parameters:\n",
    "    df (pd.DataFrame): Исходный DataFrame с колонкой 'pickup_datetime'\n",
    "    Returns:\n",
    "    pd.DataFrame: DataFrame с добавленными колонками\n",
    "    \"\"\"\n",
    "    #Создаем копию DataFrame чтобы избежать предупреждений\n",
    "    df = df.copy()\n",
    "    #Добавляем новые признаки\n",
    "    df['pickup_date'] = df['pickup_datetime'].dt.date\n",
    "    df['pickup_hour'] = df['pickup_datetime'].dt.hour\n",
    "    df['pickup_day_of_week'] = df['pickup_datetime'].dt.dayofweek  # 0-понедельник, 6-воскресенье\n",
    "    return df\n",
    "\n",
    "#Применяем функцию к данным\n",
    "taxi_data = add_datetime_features(taxi_data)\n",
    "\n",
    "#Поездки в субботу (день недели = 5, т.к. понедельник=0, воскресенье=6)\n",
    "saturday_trips = taxi_data[taxi_data['pickup_day_of_week'] == 5].shape[0]\n",
    "print(f\"Поездок в субботу: {saturday_trips}\")\n",
    "#Среднее количество поездок в день\n",
    "trips_per_day = taxi_data.groupby('pickup_date').size()  #Количество поездок по дням\n",
    "avg_trips_per_day = round(trips_per_day.mean())\n",
    "print(f\"Среднее количество поездок в день: {avg_trips_per_day}\")"
   ]
  },
  {
   "cell_type": "markdown",
   "id": "921a5400",
   "metadata": {},
   "source": [
    "### Создание признаков на датасете о праздниках"
   ]
  },
  {
   "cell_type": "code",
   "execution_count": 9,
   "id": "8ff126b5",
   "metadata": {},
   "outputs": [
    {
     "name": "stdout",
     "output_type": "stream",
     "text": [
      "Медианная длительность поездки в праздничные дни: 585 секунд\n"
     ]
    }
   ],
   "source": [
    "holiday_data = pd.read_csv(r'd:\\IDE_github\\mathml\\data\\holiday_data.csv', sep=';')\n",
    "def add_holiday_features(taxi_df, holiday_df):\n",
    "    \"\"\"\n",
    "    Добавляет признак праздничного дня в DataFrame с поездками.\n",
    "    \n",
    "    Parameters:\n",
    "    taxi_df (pd.DataFrame): DataFrame с поездками и колонкой 'pickup_date'\n",
    "    holiday_df (pd.DataFrame): DataFrame с праздничными днями\n",
    "    \n",
    "    Returns:\n",
    "    pd.DataFrame: DataFrame с добавленным столбцом 'pickup_holiday'\n",
    "    \"\"\"\n",
    "    #Создаем копию чтобы избежать предупреждений\n",
    "    taxi_df = taxi_df.copy()\n",
    "    #Преобразование в формат .datetime\n",
    "    holiday_df['date'] = pd.to_datetime(holiday_df['date'])\n",
    "    #Создаем множество праздничных дат для быстрого поиска\n",
    "    holiday_dates = set(holiday_df['date'].dt.date)\n",
    "    #Добавляем бинарный признак праздника\n",
    "    taxi_df['pickup_holiday'] = taxi_df['pickup_datetime'].dt.date.isin(holiday_dates).astype(int)\n",
    "    return taxi_df\n",
    "\n",
    "#Применяем функцию к данным\n",
    "taxi_data = add_holiday_features(taxi_data, holiday_data)\n",
    "\n",
    "#Фильтруем только праздничные поездки и вычисляем медиану\n",
    "holiday_trips = taxi_data[taxi_data['pickup_holiday'] == 1]\n",
    "median_holiday_duration = round(holiday_trips['trip_duration'].median())\n",
    "print(f\"Медианная длительность поездки в праздничные дни: {median_holiday_duration} секунд\")"
   ]
  },
  {
   "cell_type": "markdown",
   "id": "67cab5e5",
   "metadata": {},
   "source": [
    "### Оптимальный путь из точек"
   ]
  },
  {
   "cell_type": "code",
   "execution_count": 12,
   "id": "00c349de",
   "metadata": {},
   "outputs": [],
   "source": [
    "osrm_data = pd.read_csv(r'd:\\IDE_github\\mathml\\data\\osrm_data_train.csv')\n",
    "\n",
    "def add_osrm_features(taxi_df, osrm_df):\n",
    "    \"\"\"\n",
    "    Добавляет OSRM-признаки в DataFrame с поездками.\n",
    "    \n",
    "    Parameters:\n",
    "    taxi_df (pd.DataFrame): DataFrame с поездками\n",
    "    osrm_df (pd.DataFrame): DataFrame с OSRM данными\n",
    "    \n",
    "    Returns:\n",
    "    pd.DataFrame: DataFrame с добавленными OSRM столбцами\n",
    "    \"\"\"\n",
    "    #Создаем копию чтобы избежать предупреждений\n",
    "    taxi_df = taxi_df.copy()\n",
    "    #Объединяем таблицы по id поездки\n",
    "    taxi_df = taxi_df.merge(\n",
    "        osrm_df[['id', 'total_distance', 'total_travel_time', 'number_of_steps']],\n",
    "        on='id',\n",
    "        how='left'  #left join чтобы сохранить все поездки из taxi_df\n",
    "    )\n",
    "    return taxi_df\n",
    "\n",
    "#Применяем функцию к данным\n",
    "taxi_data = add_osrm_features(taxi_data, osrm_data)"
   ]
  },
  {
   "cell_type": "code",
   "execution_count": 13,
   "id": "da51e1f0",
   "metadata": {},
   "outputs": [],
   "source": [
    "def get_haversine_distance(lat1, lng1, lat2, lng2):\n",
    "    #Переводим углы в радианы\n",
    "    lat1, lng1, lat2, lng2 = map(np.radians, (lat1, lng1, lat2, lng2))\n",
    "    #Радиус земли в километрах\n",
    "    EARTH_RADIUS = 6371 \n",
    "    #Считаем кратчайшее расстояние h по формуле Хаверсина\n",
    "    lat_delta = lat2 - lat1\n",
    "    lng_delta = lng2 - lng1\n",
    "    d = np.sin(lat_delta * 0.5) ** 2 + np.cos(lat1) * np.cos(lat2) * np.sin(lng_delta * 0.5) ** 2\n",
    "    h = 2 * EARTH_RADIUS * np.arcsin(np.sqrt(d))\n",
    "    return h\n",
    "\n",
    "def get_angle_direction(lat1, lng1, lat2, lng2):\n",
    "    #Переводим углы в радианы\n",
    "    lat1, lng1, lat2, lng2 = map(np.radians, (lat1, lng1, lat2, lng2))\n",
    "    #Считаем угол направления движения alpha по формуле угла пеленга\n",
    "    lng_delta_rad = lng2 - lng1\n",
    "    y = np.sin(lng_delta_rad) * np.cos(lat2)\n",
    "    x = np.cos(lat1) * np.sin(lat2) - np.sin(lat1) * np.cos(lat2) * np.cos(lng_delta_rad)\n",
    "    alpha = np.degrees(np.arctan2(y, x))\n",
    "    return alpha"
   ]
  },
  {
   "cell_type": "code",
   "execution_count": 14,
   "id": "cfb13ea0",
   "metadata": {},
   "outputs": [
    {
     "name": "stdout",
     "output_type": "stream",
     "text": [
      "Разница между медианными длительностями: 372 секунд\n",
      "\n",
      "Пропуски в OSRM столбцах:\n",
      "   total_distance: 1 пропусков\n",
      "   total_travel_time: 1 пропусков\n",
      "   number_of_steps: 1 пропусков\n"
     ]
    }
   ],
   "source": [
    "#Разница между медианной длительностью поездки в данных и из OSRM\n",
    "median_actual = taxi_data['trip_duration'].median()\n",
    "median_osrm = taxi_data['total_travel_time'].median()\n",
    "median_difference = abs(median_actual - median_osrm)\n",
    "print(f\"Разница между медианными длительностями: {median_difference:.0f} секунд\")\n",
    "#Количество пропусков в OSRM столбцах\n",
    "missing_osrm = taxi_data[['total_distance', 'total_travel_time', 'number_of_steps']].isna().sum()\n",
    "print(\"\\nПропуски в OSRM столбцах:\")\n",
    "for col, count in missing_osrm.items():\n",
    "    print(f\"   {col}: {count} пропусков\")"
   ]
  }
 ],
 "metadata": {
  "kernelspec": {
   "display_name": "Python 3",
   "language": "python",
   "name": "python3"
  },
  "language_info": {
   "codemirror_mode": {
    "name": "ipython",
    "version": 3
   },
   "file_extension": ".py",
   "mimetype": "text/x-python",
   "name": "python",
   "nbconvert_exporter": "python",
   "pygments_lexer": "ipython3",
   "version": "3.12.4"
  }
 },
 "nbformat": 4,
 "nbformat_minor": 5
}
